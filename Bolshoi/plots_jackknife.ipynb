{
 "cells": [
  {
   "cell_type": "code",
   "execution_count": 3,
   "metadata": {},
   "outputs": [
    {
     "data": {
      "text/plain": [
       "(611, 13)"
      ]
     },
     "execution_count": 3,
     "metadata": {},
     "output_type": "execute_result"
    }
   ],
   "source": [
    "from imports import np, plt\n",
    "from constants import CACHE_PATH, MASS_BINS\n",
    "total = np.load(f'{CACHE_PATH}/jackknife_cvirs.npy')\n",
    "total.shape"
   ]
  },
  {
   "cell_type": "code",
   "execution_count": null,
   "metadata": {},
   "outputs": [],
   "source": [
    "plt.hist(total[:100, -1]/np.mean(total[:100, 3]), label=f'Halo Mass: {np.log10(MASS_BINS[0])}-{np.log10(MASS_BINS[1])}', bins=np.linspace(0, 2.5, 15), alpha=0.5)\n",
    "plt.hist(total[100:201, -1]/np.mean(total[100:201, 3]), label=f'Halo Mass: {np.log10(MASS_BINS[1])}-{np.log10(MASS_BINS[2])}', bins=np.linspace(0, 2.5, 15), alpha=0.5)\n",
    "plt.hist(total[200:301, -1]/np.mean(total[200:301, 3]), label=f'Halo Mass: {np.log10(MASS_BINS[2])}-{np.log10(MASS_BINS[3])}', bins=np.linspace(0, 2.5, 15), alpha=0.5)\n",
    "plt.hist(total[300:401, -1]/np.mean(total[300:401, 3]), label=f'Halo Mass: {np.log10(MASS_BINS[3])}-{np.log10(MASS_BINS[4])}', bins=np.linspace(0, 2.5, 15), alpha=0.5)\n",
    "plt.hist(total[400:501, -1]/np.mean(total[400:501, 3]), label=f'Halo Mass: {np.log10(MASS_BINS[4])}-{np.log10(MASS_BINS[5])}', bins=np.linspace(0, 2.5, 15), alpha=0.5)\n",
    "plt.hist(total[500:561, -1]/np.mean(total[500:561, 3]), label=f'Halo Mass: {np.log10(MASS_BINS[5])}-{np.log10(MASS_BINS[6])}', bins=np.linspace(0, 2.5, 15), alpha=0.5)\n",
    "plt.hist(total[560:595, -1]/np.mean(total[560:595, 3]), label=f'Halo Mass: {np.log10(MASS_BINS[6])}-{np.log10(MASS_BINS[7])}', bins=np.linspace(0, 2.5, 15), alpha=0.5)\n",
    "plt.hist(total[594:611, -1]/np.mean(total[594:611, 3]), label=f'Halo Mass: {np.log10(MASS_BINS[7])}-{np.log10(MASS_BINS[8])}', bins=np.linspace(0, 2.5, 15), alpha=0.5)\n",
    "plt.legend()\n",
    "plt.savefig('figures/cvir_dispersion_hist.png')"
   ]
  },
  {
   "cell_type": "code",
   "execution_count": 5,
   "metadata": {},
   "outputs": [],
   "source": [
    "slices = [0, 100, 200, 300, 400, 500, 561, 595, 611]"
   ]
  },
  {
   "cell_type": "code",
   "execution_count": null,
   "metadata": {},
   "outputs": [],
   "source": [
    "plt.subplots(2, 4, figsize=(35, 15))\n",
    "for i in range(8):\n",
    "    plt.subplot(2, 4, i+1)\n",
    "    hm = f'{np.log10(MASS_BINS[i])}-{np.log10(MASS_BINS[i+1])}'\n",
    "    plt.hist(total[slices[i]: slices[i + 1] + 1, -1]/np.mean(total[slices[i]: slices[i + 1] + 1, 3]), label=f'Halo Mass: {hm}', bins=np.linspace(0, 2.5, 15), alpha=0.5)  # type: ignore\n",
    "    plt.legend(prop={'size':20})\n",
    "    # plt.savefig(f'figures/cvir_dispersion_hist_{hm}.png')\n",
    "    # plt.clf()\n",
    "\n",
    "plt.show()\n",
    "# plt.savefig(f'figures/cvir_dispersion_hist_subplots.png')"
   ]
  },
  {
   "cell_type": "code",
   "execution_count": 6,
   "metadata": {},
   "outputs": [],
   "source": [
    "# y\n",
    "y = np.std(total[:100, -1] / np.mean(total[:100, 3]))"
   ]
  },
  {
   "cell_type": "code",
   "execution_count": null,
   "metadata": {},
   "outputs": [],
   "source": [
    "# x \n",
    "x = np.mean([MASS_BINS[0], MASS_BINS[1]])"
   ]
  },
  {
   "cell_type": "code",
   "execution_count": null,
   "metadata": {},
   "outputs": [],
   "source": [
    "plt.plot(x, y)\n",
    "plt.xscale('log')"
   ]
  },
  {
   "cell_type": "code",
   "execution_count": 11,
   "metadata": {},
   "outputs": [
    {
     "data": {
      "text/plain": [
       "(12.142745924692269, 0.31771222940916094)"
      ]
     },
     "execution_count": 11,
     "metadata": {},
     "output_type": "execute_result"
    }
   ],
   "source": [
    "np.log10(x), y"
   ]
  }
 ],
 "metadata": {
  "kernelspec": {
   "display_name": "Python 3.9.12 ('sims')",
   "language": "python",
   "name": "python3"
  },
  "language_info": {
   "codemirror_mode": {
    "name": "ipython",
    "version": 3
   },
   "file_extension": ".py",
   "mimetype": "text/x-python",
   "name": "python",
   "nbconvert_exporter": "python",
   "pygments_lexer": "ipython3",
   "version": "3.9.12"
  },
  "orig_nbformat": 4,
  "vscode": {
   "interpreter": {
    "hash": "141651cc2cb9bc4920c038a0edaabd0e40e9e5c1de0cba929107a68ed73468f0"
   }
  }
 },
 "nbformat": 4,
 "nbformat_minor": 2
}
